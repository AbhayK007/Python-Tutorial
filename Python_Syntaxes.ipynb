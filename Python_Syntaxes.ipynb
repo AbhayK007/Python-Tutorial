{
  "nbformat": 4,
  "nbformat_minor": 0,
  "metadata": {
    "colab": {
      "name": "Python_Syntaxes.ipynb",
      "provenance": [],
      "collapsed_sections": [],
      "authorship_tag": "ABX9TyMsepVKKVQWUTych1qltbPr",
      "include_colab_link": true
    },
    "kernelspec": {
      "name": "python3",
      "display_name": "Python 3"
    },
    "language_info": {
      "name": "python"
    }
  },
  "cells": [
    {
      "cell_type": "markdown",
      "metadata": {
        "id": "view-in-github",
        "colab_type": "text"
      },
      "source": [
        "<a href=\"https://colab.research.google.com/github/AbhayK007/Python-Tutorial/blob/main/Python_Syntaxes.ipynb\" target=\"_parent\"><img src=\"https://colab.research.google.com/assets/colab-badge.svg\" alt=\"Open In Colab\"/></a>"
      ]
    },
    {
      "cell_type": "markdown",
      "metadata": {
        "id": "spGAZZrfPvrq"
      },
      "source": [
        "# **String**"
      ]
    },
    {
      "cell_type": "markdown",
      "metadata": {
        "id": "pM9aKvQaPTq5"
      },
      "source": [
        "\"\\n\" in string is used to create new line/ break line\n"
      ]
    },
    {
      "cell_type": "code",
      "metadata": {
        "colab": {
          "base_uri": "https://localhost:8080/"
        },
        "id": "RtqfFs-DPguM",
        "outputId": "34e672d3-8225-417a-ee8c-8de585e5ee7d"
      },
      "source": [
        "print(\"hello \\nI am abhay\")"
      ],
      "execution_count": null,
      "outputs": [
        {
          "output_type": "stream",
          "text": [
            "hello \n",
            "I am abhay\n"
          ],
          "name": "stdout"
        }
      ]
    },
    {
      "cell_type": "markdown",
      "metadata": {
        "id": "-lOEp1QJQczU"
      },
      "source": [
        "triple qoute allows line break"
      ]
    },
    {
      "cell_type": "code",
      "metadata": {
        "colab": {
          "base_uri": "https://localhost:8080/"
        },
        "id": "UYbzp7GQP7xF",
        "outputId": "25c8b0a4-4c98-4c96-ce2d-260da8b626a5"
      },
      "source": [
        "print('''hello\n",
        "ok''')"
      ],
      "execution_count": null,
      "outputs": [
        {
          "output_type": "stream",
          "text": [
            "hello\n",
            "ok\n"
          ],
          "name": "stdout"
        }
      ]
    },
    {
      "cell_type": "markdown",
      "metadata": {
        "id": "P9Q3Ar6BSWIT"
      },
      "source": [
        "r\"\\__\" will print \\__ "
      ]
    },
    {
      "cell_type": "code",
      "metadata": {
        "colab": {
          "base_uri": "https://localhost:8080/"
        },
        "id": "zilkJu15SgDE",
        "outputId": "43c9d019-f588-4ed8-ca25-4abfff19de5a"
      },
      "source": [
        "print(r\"I'am \\\"abhay\\\"\")"
      ],
      "execution_count": null,
      "outputs": [
        {
          "output_type": "stream",
          "text": [
            "I'am \\\"abhay\\\"\n"
          ],
          "name": "stdout"
        }
      ]
    },
    {
      "cell_type": "markdown",
      "metadata": {
        "id": "Vw4w2-roTkjT"
      },
      "source": [
        "Formatting of Strings\n",
        "  \n"
      ]
    },
    {
      "cell_type": "code",
      "metadata": {
        "colab": {
          "base_uri": "https://localhost:8080/"
        },
        "id": "2jhkM_jVTrQ6",
        "outputId": "d37a4742-f55a-4b94-c32b-b8542f36bc2d"
      },
      "source": [
        "# Default order\n",
        "String0 = \"{} {} {}\".format('Geeks', 'For', 'Life')\n",
        "print(\"Print String in default order: \")\n",
        "print(String0)\n",
        "  \n",
        "# Positional Formatting\n",
        "String1 = \"I am {1} {0} {2}\".format( String0, 'For', 'Life')\n",
        "print(\"\\nPrint String in Positional order: \")\n",
        "print(String1)\n",
        "  \n",
        "# Keyword Formatting\n",
        "String1 = \"{l} {f} {g}\".format(g = 'Geeks', f = 'For', l = 'Life')\n",
        "print(\"\\nPrint String in order of Keywords: \")\n",
        "print(String1)"
      ],
      "execution_count": null,
      "outputs": [
        {
          "output_type": "stream",
          "text": [
            "Print String in default order: \n",
            "Geeks For Life\n",
            "\n",
            "Print String in Positional order: \n",
            "I am For Geeks For Life Life\n",
            "\n",
            "Print String in order of Keywords: \n",
            "Life For Geeks\n"
          ],
          "name": "stdout"
        }
      ]
    },
    {
      "cell_type": "markdown",
      "metadata": {
        "id": "-R3TAyViUqWG"
      },
      "source": [
        "Formatting of Integers\n",
        "binary representation"
      ]
    },
    {
      "cell_type": "code",
      "metadata": {
        "colab": {
          "base_uri": "https://localhost:8080/"
        },
        "id": "sd0hxyalT2cL",
        "outputId": "1ba0fcf4-27f1-4e27-fa29-922c6e9360d8"
      },
      "source": [
        "\n",
        "String1 = \"{0:b}\".format(16)\n",
        "print(\"\\nBinary representation of 16 is \")\n",
        "print(String1)\n",
        "\n",
        "# Formatting of Floats\n",
        "String1 = \"{0:e}\".format(165.6458)\n",
        "print(\"\\nExponent representation of 165.6458 is \")\n",
        "print(String1)\n",
        "\n",
        "# Rounding off Integers\n",
        "String1 = \"{0:.2f}\".format(1/5)\n",
        "print(\"\\none-sixth is : \")\n",
        "print(String1)"
      ],
      "execution_count": null,
      "outputs": [
        {
          "output_type": "stream",
          "text": [
            "\n",
            "Binary representation of 16 is \n",
            "10000\n",
            "\n",
            "Exponent representation of 165.6458 is \n",
            "1.656458e+02\n",
            "\n",
            "one-sixth is : \n",
            "0.20\n"
          ],
          "name": "stdout"
        }
      ]
    },
    {
      "cell_type": "markdown",
      "metadata": {
        "id": "3SD0j0blVF75"
      },
      "source": [
        "String alignment"
      ]
    },
    {
      "cell_type": "code",
      "metadata": {
        "colab": {
          "base_uri": "https://localhost:8080/"
        },
        "id": "9u3_6e_ZUr4-",
        "outputId": "cbb9431e-854f-4375-9caf-386245bca1d8"
      },
      "source": [
        "\n",
        "String1 = \"|{:<10}|{:^10}|{:>10}|\".format('Geeks','for','Geeks')\n",
        "print(\"\\nLeft, center and right alignment with Formatting: \")\n",
        "print(String1)"
      ],
      "execution_count": null,
      "outputs": [
        {
          "output_type": "stream",
          "text": [
            "\n",
            "Left, center and right alignment with Formatting: \n",
            "|Geeks     |   for    |     Geeks|\n"
          ],
          "name": "stdout"
        }
      ]
    },
    {
      "cell_type": "code",
      "metadata": {
        "colab": {
          "base_uri": "https://localhost:8080/"
        },
        "id": "FR1Dr9KIVHro",
        "outputId": "338f9c90-8077-4c46-9951-12889af3004e"
      },
      "source": [
        "string1=\" I AM abhay\"\n",
        "print(string1.lower())"
      ],
      "execution_count": null,
      "outputs": [
        {
          "output_type": "stream",
          "text": [
            " i am abhay\n"
          ],
          "name": "stdout"
        }
      ]
    },
    {
      "cell_type": "code",
      "metadata": {
        "colab": {
          "base_uri": "https://localhost:8080/"
        },
        "id": "lzG3RSirWR1q",
        "outputId": "5720efb8-91c9-4a95-e8ed-721b36bf1686"
      },
      "source": [
        "# Splitting at 3\n",
        "word = 'CatBatSatFatOr'\n",
        "print([word[i:i+3] for i in range(0, len(word), 3)])\n"
      ],
      "execution_count": null,
      "outputs": [
        {
          "output_type": "stream",
          "text": [
            "['Cat', 'Bat', 'Sat', 'Fat', 'Or']\n"
          ],
          "name": "stdout"
        }
      ]
    },
    {
      "cell_type": "code",
      "metadata": {
        "id": "H9lp-7lgX0hK"
      },
      "source": [
        ""
      ],
      "execution_count": null,
      "outputs": []
    },
    {
      "cell_type": "markdown",
      "metadata": {
        "id": "Wfk8n5sXaHBI"
      },
      "source": [
        "# **LIST**"
      ]
    },
    {
      "cell_type": "markdown",
      "metadata": {
        "id": "8qYGjMr7aYPU"
      },
      "source": [
        "knowing size of list"
      ]
    },
    {
      "cell_type": "code",
      "metadata": {
        "colab": {
          "base_uri": "https://localhost:8080/"
        },
        "id": "_tHBhLgeaMG7",
        "outputId": "f6980cd9-a23d-4bc7-807d-41b76d369d00"
      },
      "source": [
        "List2 = [10, 20, 14]\n",
        "print(len(List2))"
      ],
      "execution_count": null,
      "outputs": [
        {
          "output_type": "stream",
          "text": [
            "3\n"
          ],
          "name": "stdout"
        }
      ]
    },
    {
      "cell_type": "markdown",
      "metadata": {
        "id": "WOn_Jeluag4f"
      },
      "source": [
        "Adding Elements to a List= mylist\n",
        "> mylist.append(\"what u want to add\")\n",
        "> item added at end\n",
        "\n",
        "\n",
        "\n",
        "\n",
        "\n",
        "\n",
        "\n"
      ]
    },
    {
      "cell_type": "code",
      "metadata": {
        "colab": {
          "base_uri": "https://localhost:8080/"
        },
        "id": "bea_7JSZadmE",
        "outputId": "679b9fa6-8374-4b88-f21f-5905980312a5"
      },
      "source": [
        "List = []\n",
        "print(\"Initial blank List: \")\n",
        "print(List)\n",
        "\n",
        "for i in range(1, 4):\n",
        "    List.append(i)\n",
        "print(\"\\nList after Addition of elements from 1-3: \")\n",
        "print(List)"
      ],
      "execution_count": null,
      "outputs": [
        {
          "output_type": "stream",
          "text": [
            "Initial blank List: \n",
            "[]\n",
            "\n",
            "List after Addition of elements from 1-3: \n",
            "[1, 2, 3]\n"
          ],
          "name": "stdout"
        }
      ]
    },
    {
      "cell_type": "markdown",
      "metadata": {
        "id": "Ik8f0VSob6aK"
      },
      "source": [
        "list.insert(position,value)"
      ]
    },
    {
      "cell_type": "code",
      "metadata": {
        "colab": {
          "base_uri": "https://localhost:8080/"
        },
        "id": "1cTzzgGTam3X",
        "outputId": "ceb0b2bc-cffc-44aa-d21c-6346e577736a"
      },
      "source": [
        "List = [1,2,3,4]\n",
        "print(\"Initial List: \")\n",
        "print(List)\n",
        "List.insert(3, 12)\n",
        "List.insert(0, 'Geeks')\n",
        "print(\"\\nList after performing Insert Operation: \")\n",
        "print(List)"
      ],
      "execution_count": null,
      "outputs": [
        {
          "output_type": "stream",
          "text": [
            "Initial List: \n",
            "[1, 2, 3, 4]\n",
            "\n",
            "List after performing Insert Operation: \n",
            "['Geeks', 1, 2, 3, 12, 4]\n"
          ],
          "name": "stdout"
        }
      ]
    },
    {
      "cell_type": "markdown",
      "metadata": {
        "id": "YrbBAWHTcR4r"
      },
      "source": [
        "list.extend() used to add multiple items at end\n",
        "\n"
      ]
    },
    {
      "cell_type": "code",
      "metadata": {
        "colab": {
          "base_uri": "https://localhost:8080/"
        },
        "id": "vV0_PXdecFSP",
        "outputId": "bde49de0-405f-4597-906d-164f74018c39"
      },
      "source": [
        "List = [1,2,3,4]\n",
        "print(\"Initial List: \")\n",
        "print(List)\n",
        "\n",
        "List.extend([8, 'Geeks', 'Always'])\n",
        "print(\"\\nList after performing Extend Operation: \")\n",
        "print(List)"
      ],
      "execution_count": null,
      "outputs": [
        {
          "output_type": "stream",
          "text": [
            "Initial List: \n",
            "[1, 2, 3, 4]\n",
            "\n",
            "List after performing Extend Operation: \n",
            "[1, 2, 3, 4, 8, 'Geeks', 'Always']\n"
          ],
          "name": "stdout"
        }
      ]
    },
    {
      "cell_type": "markdown",
      "metadata": {
        "id": "WEZtY3B_cnma"
      },
      "source": [
        "removing elements, removes 1st occurance\n",
        "\n",
        "> list.remove(value)\n",
        "\n"
      ]
    },
    {
      "cell_type": "code",
      "metadata": {
        "colab": {
          "base_uri": "https://localhost:8080/"
        },
        "id": "mFRUYi1zcQaX",
        "outputId": "97b3f6d9-c4f1-402b-9122-89ee28b39d2d"
      },
      "source": [
        "List = [1, 2, 3, 4, 5, 6,6, \n",
        "        7, 8, 9, 10, 11, 12]\n",
        "print(\"Intial List: \")\n",
        "print(List)\n",
        "\n",
        "List.remove(5)\n",
        "List.remove(6)\n",
        "print(\"\\nList after Removal of two elements: \")\n",
        "print(List)"
      ],
      "execution_count": null,
      "outputs": [
        {
          "output_type": "stream",
          "text": [
            "Intial List: \n",
            "[1, 2, 3, 4, 5, 6, 6, 7, 8, 9, 10, 11, 12]\n",
            "\n",
            "List after Removal of two elements: \n",
            "[1, 2, 3, 4, 6, 7, 8, 9, 10, 11, 12]\n"
          ],
          "name": "stdout"
        }
      ]
    },
    {
      "cell_type": "markdown",
      "metadata": {
        "id": "LOM8_BQJdiXf"
      },
      "source": [
        "remove element,  default end item removed\n",
        "\n",
        "\n",
        "> list.pop()\n",
        "\n"
      ]
    },
    {
      "cell_type": "code",
      "metadata": {
        "colab": {
          "base_uri": "https://localhost:8080/"
        },
        "id": "GTxmfZ1adNUe",
        "outputId": "223c3273-c5ae-4170-fd48-25bffcc9b6e7"
      },
      "source": [
        "List = [1,2,3,4,5]\n",
        "\n",
        "List.pop()\n",
        "print(\"\\nList after popping an element: \")\n",
        "print(List)\n",
        "\n",
        "List.pop(2)\n",
        "print(\"\\nList after popping a specific element: \")\n",
        "print(List)\n"
      ],
      "execution_count": null,
      "outputs": [
        {
          "output_type": "stream",
          "text": [
            "\n",
            "List after popping an element: \n",
            "[1, 2, 3, 4]\n",
            "\n",
            "List after popping a specific element: \n",
            "[1, 2, 4]\n"
          ],
          "name": "stdout"
        }
      ]
    },
    {
      "cell_type": "markdown",
      "metadata": {
        "id": "5N-JdHLfeKvr"
      },
      "source": [
        "selecting range of elements from list\n",
        "\n",
        "> list.slice(position:position)\n",
        "\n"
      ]
    },
    {
      "cell_type": "code",
      "metadata": {
        "colab": {
          "base_uri": "https://localhost:8080/"
        },
        "id": "JMnOlt2Fdyw_",
        "outputId": "03469503-d00c-42b5-8fea-448416915995"
      },
      "source": [
        "List = ['G','E','E','K','S','F',\n",
        "        'O','R','G','E','E','K','S']\n",
        "print(\"Intial List: \")\n",
        "print(List)\n",
        "\n",
        "Sliced_List = List[3:8]\n",
        "print(\"\\nSlicing elements in a range 3-8: \")\n",
        "print(Sliced_List)"
      ],
      "execution_count": null,
      "outputs": [
        {
          "output_type": "stream",
          "text": [
            "Intial List: \n",
            "['G', 'E', 'E', 'K', 'S', 'F', 'O', 'R', 'G', 'E', 'E', 'K', 'S']\n",
            "\n",
            "Slicing elements in a range 3-8: \n",
            "['K', 'S', 'F', 'O', 'R']\n"
          ],
          "name": "stdout"
        }
      ]
    },
    {
      "cell_type": "markdown",
      "metadata": {
        "id": "vXkJAawUeaVW"
      },
      "source": [
        "list.index(value)\n",
        "\n",
        "> Returns lowest index where the element appears.\n",
        "\n"
      ]
    },
    {
      "cell_type": "code",
      "metadata": {
        "colab": {
          "base_uri": "https://localhost:8080/"
        },
        "id": "tVEbb8heeZoJ",
        "outputId": "50151025-48b0-47da-e9b0-afd9cb26b4a3"
      },
      "source": [
        "list1 = [1, 2, 3, 4, 1, 1, 1, 4, 5]\n",
        " \n",
        "# Will print the index of '4' in list1\n",
        "print(list1.index(4))"
      ],
      "execution_count": null,
      "outputs": [
        {
          "output_type": "stream",
          "text": [
            "3\n"
          ],
          "name": "stdout"
        }
      ]
    },
    {
      "cell_type": "markdown",
      "metadata": {
        "id": "YjLN1uRofnhC"
      },
      "source": [
        "sum\n",
        "\n",
        "> sum(list)\n",
        "\n"
      ]
    },
    {
      "cell_type": "code",
      "metadata": {
        "colab": {
          "base_uri": "https://localhost:8080/"
        },
        "id": "pSYsomRWe2ZG",
        "outputId": "06b996cd-9ec5-4c7f-d3ae-86ce0fb0ca51"
      },
      "source": [
        "numbers = [1,2,3,4,5,1,4,5]\n",
        "  \n",
        "# start parameter is not provided\n",
        "Sum = sum(numbers)\n",
        "print(Sum)"
      ],
      "execution_count": null,
      "outputs": [
        {
          "output_type": "stream",
          "text": [
            "25\n"
          ],
          "name": "stdout"
        }
      ]
    },
    {
      "cell_type": "markdown",
      "metadata": {
        "id": "EgAufqyef3G5"
      },
      "source": [
        "max ,  min\n",
        "\n",
        "> max(list)\n",
        "\n"
      ]
    },
    {
      "cell_type": "code",
      "metadata": {
        "colab": {
          "base_uri": "https://localhost:8080/"
        },
        "id": "TBISJ96ffxPu",
        "outputId": "86aeee3d-7dcd-4d60-e31e-251c7c23d2e2"
      },
      "source": [
        "numbers = [1,2,3,4,5,1,4,5]\n",
        "  \n",
        "# start parameter is not provided\n",
        "MAx = max(numbers)\n",
        "print(MAx)"
      ],
      "execution_count": null,
      "outputs": [
        {
          "output_type": "stream",
          "text": [
            "5\n"
          ],
          "name": "stdout"
        }
      ]
    },
    {
      "cell_type": "markdown",
      "metadata": {
        "id": "DYZDIqCOgR-Z"
      },
      "source": [
        "len(list)\n",
        "\n",
        "> returns length of list\n",
        "\n",
        "\n"
      ]
    },
    {
      "cell_type": "code",
      "metadata": {
        "colab": {
          "base_uri": "https://localhost:8080/"
        },
        "id": "cmCbesdlgC5l",
        "outputId": "6a1ba7f2-f510-46fc-9c5f-5443223e6302"
      },
      "source": [
        "numbers = [1,2,3,4,5,1,4,5]\n",
        "  \n",
        "# start parameter is not provided\n",
        "Length = len(numbers)\n",
        "print(Length)"
      ],
      "execution_count": null,
      "outputs": [
        {
          "output_type": "stream",
          "text": [
            "8\n"
          ],
          "name": "stdout"
        }
      ]
    },
    {
      "cell_type": "code",
      "metadata": {
        "id": "_nO8Y_Q7gbF3"
      },
      "source": [
        ""
      ],
      "execution_count": null,
      "outputs": []
    },
    {
      "cell_type": "markdown",
      "metadata": {
        "id": "Gz9ND_wghMct"
      },
      "source": [
        "# TUPLE"
      ]
    },
    {
      "cell_type": "code",
      "metadata": {
        "colab": {
          "base_uri": "https://localhost:8080/"
        },
        "id": "fYopg12-hPTd",
        "outputId": "3caace00-4bdb-4a88-9b8e-827a2a892253"
      },
      "source": [
        "Tuple1 = tuple('Geeks')\n",
        "print(\"\\nTuple with the use of function: \")\n",
        "print(Tuple1)\n"
      ],
      "execution_count": null,
      "outputs": [
        {
          "output_type": "stream",
          "text": [
            "\n",
            "Tuple with the use of function: \n",
            "('G', 'e', 'e', 'k', 's')\n"
          ],
          "name": "stdout"
        }
      ]
    },
    {
      "cell_type": "markdown",
      "metadata": {
        "id": "Co89nAYchgw0"
      },
      "source": [
        "repeatation"
      ]
    },
    {
      "cell_type": "code",
      "metadata": {
        "colab": {
          "base_uri": "https://localhost:8080/"
        },
        "id": "nbj8t9E1hQYo",
        "outputId": "1925afe5-1fd6-48cf-c03d-69d1285e50ca"
      },
      "source": [
        "#with repetition\n",
        "Tuple1 = ('Geeks',) * 3\n",
        "print(Tuple1)"
      ],
      "execution_count": null,
      "outputs": [
        {
          "output_type": "stream",
          "text": [
            "('Geeks', 'Geeks', 'Geeks')\n"
          ],
          "name": "stdout"
        }
      ]
    },
    {
      "cell_type": "code",
      "metadata": {
        "id": "q92vipvchiJT"
      },
      "source": [
        ""
      ],
      "execution_count": null,
      "outputs": []
    },
    {
      "cell_type": "markdown",
      "metadata": {
        "id": "mEpn26o1kHtt"
      },
      "source": [
        "# **SETS**\n",
        "\n",
        "> removes repeating elements, order unpredictable\n",
        "\n"
      ]
    },
    {
      "cell_type": "code",
      "metadata": {
        "colab": {
          "base_uri": "https://localhost:8080/"
        },
        "id": "qFlWNXsfkKXT",
        "outputId": "f0a8061a-60d8-4bd4-a05e-d6a9092d1f7b"
      },
      "source": [
        "set1 = set(\"GeeksForGeeks\")\n",
        "print(\"\\nSet with the use of String: \")\n",
        "print(set1)\n",
        "\n",
        "set1 = set([\"Geeks\", \"For\", \"Geeks\"])\n",
        "print(\"\\nSet with the use of List: \")\n",
        "print(set1)"
      ],
      "execution_count": null,
      "outputs": [
        {
          "output_type": "stream",
          "text": [
            "\n",
            "Set with the use of String: \n",
            "{'s', 'e', 'G', 'o', 'F', 'r', 'k'}\n",
            "\n",
            "Set with the use of List: \n",
            "{'For', 'Geeks'}\n"
          ],
          "name": "stdout"
        }
      ]
    },
    {
      "cell_type": "markdown",
      "metadata": {
        "id": "u1VVjeaxk8t4"
      },
      "source": [
        "set.add(value)\n",
        "\n",
        "> only 1 item can be added\n",
        "\n"
      ]
    },
    {
      "cell_type": "code",
      "metadata": {
        "colab": {
          "base_uri": "https://localhost:8080/"
        },
        "id": "XUtdywpEkeVp",
        "outputId": "6510f3df-8935-46c0-9ca6-d8ec5cd1deab"
      },
      "source": [
        "set1 = set()\n",
        "print(\"Intial blank Set: \")\n",
        "print(set1)\n",
        "\n",
        "set1.add(8)\n",
        "set1.add(9)\n",
        "set1.add((6,7))\n",
        "print(\"\\nSet after Addition of Three elements: \")\n",
        "print(set1)"
      ],
      "execution_count": null,
      "outputs": [
        {
          "output_type": "stream",
          "text": [
            "Intial blank Set: \n",
            "set()\n",
            "\n",
            "Set after Addition of Three elements: \n",
            "{8, 9, (6, 7)}\n"
          ],
          "name": "stdout"
        }
      ]
    },
    {
      "cell_type": "markdown",
      "metadata": {
        "id": "3EaohLgvlPkN"
      },
      "source": [
        "set.update(values)\n",
        "\n",
        "> for adding multiple values\n",
        "\n"
      ]
    },
    {
      "cell_type": "code",
      "metadata": {
        "colab": {
          "base_uri": "https://localhost:8080/"
        },
        "id": "DgZvk9TylCEf",
        "outputId": "f15eea25-71ba-4319-ab72-7178b486a110"
      },
      "source": [
        "set1 = set([ 4, 5, (6, 7)])\n",
        "set1.update([10, 11])\n",
        "print(\"\\nSet after Addition of elements using Update: \")\n",
        "print(set1)"
      ],
      "execution_count": null,
      "outputs": [
        {
          "output_type": "stream",
          "text": [
            "\n",
            "Set after Addition of elements using Update: \n",
            "{4, 5, (6, 7), 10, 11}\n"
          ],
          "name": "stdout"
        }
      ]
    },
    {
      "cell_type": "markdown",
      "metadata": {
        "id": "5nn6blYNluQk"
      },
      "source": [
        "Checking the element\n",
        "\n",
        "> true or false\n",
        "\n",
        "\n",
        "\n",
        "\n",
        "\n"
      ]
    },
    {
      "cell_type": "code",
      "metadata": {
        "colab": {
          "base_uri": "https://localhost:8080/"
        },
        "id": "agNBCBH_lYNI",
        "outputId": "51521345-a571-456b-d202-3b04e991f2b0"
      },
      "source": [
        "set1 = set([\"Geeks\", \"For\", \"Geeks\"])\n",
        "print(\"Geeks\" in set1)"
      ],
      "execution_count": null,
      "outputs": [
        {
          "output_type": "stream",
          "text": [
            "True\n"
          ],
          "name": "stdout"
        }
      ]
    },
    {
      "cell_type": "markdown",
      "metadata": {
        "id": "H23L1ynSm5VD"
      },
      "source": [
        "# **DICTIONARY**"
      ]
    },
    {
      "cell_type": "code",
      "metadata": {
        "colab": {
          "base_uri": "https://localhost:8080/"
        },
        "id": "9E9-vI2fl59A",
        "outputId": "a97c1e50-0fa2-42a4-e36f-9befdf5f7624"
      },
      "source": [
        "Dict = {'Name': 'Geeks', 1: [1, 2, 3, 4]}\n",
        "print(\"Dictionary with the use of Mixed Keys: \")\n",
        "print(Dict)\n",
        "\n",
        "Dict = dict([(1, 'Geeks'), (2, 'For')])\n",
        "print(\"\\nDictionary with each item as a pair: \")\n",
        "print(Dict)\n",
        "print(\"\\n\")\n",
        "\n",
        "print(1 in Dict)\n",
        "print('Geeks' in Dict)"
      ],
      "execution_count": null,
      "outputs": [
        {
          "output_type": "stream",
          "text": [
            "Dictionary with the use of Mixed Keys: \n",
            "{'Name': 'Geeks', 1: [1, 2, 3, 4]}\n",
            "\n",
            "Dictionary with each item as a pair: \n",
            "{1: 'Geeks', 2: 'For'}\n",
            "\n",
            "\n",
            "True\n",
            "False\n"
          ],
          "name": "stdout"
        }
      ]
    },
    {
      "cell_type": "markdown",
      "metadata": {
        "id": "iF4wNacunmI2"
      },
      "source": [
        "Adding elements"
      ]
    },
    {
      "cell_type": "code",
      "metadata": {
        "colab": {
          "base_uri": "https://localhost:8080/"
        },
        "id": "Ph9BeWEvnBAJ",
        "outputId": "4b78415a-48a3-4082-93e9-3d6d9f887b30"
      },
      "source": [
        "# Creating an empty Dictionary\n",
        "Dict = {}\n",
        "print(\"Empty Dictionary: \")\n",
        "print(Dict)\n",
        "  \n",
        "# Adding elements one at a time\n",
        "Dict[0] = 'Geeks'\n",
        "Dict[2] = 'For'\n",
        "Dict[3] = 1\n",
        "print(\"\\nDictionary after adding 3 elements: \")\n",
        "print(Dict)\n",
        "  \n",
        "# Adding set of values \n",
        "# to a single Key\n",
        "Dict['Value_set'] = 2, 3, 4\n",
        "print(\"\\nDictionary after adding 3 elements: \")\n",
        "print(Dict)"
      ],
      "execution_count": null,
      "outputs": [
        {
          "output_type": "stream",
          "text": [
            "Empty Dictionary: \n",
            "{}\n",
            "\n",
            "Dictionary after adding 3 elements: \n",
            "{0: 'Geeks', 2: 'For', 3: 1}\n",
            "\n",
            "Dictionary after adding 3 elements: \n",
            "{0: 'Geeks', 2: 'For', 3: 1, 'Value_set': (2, 3, 4)}\n"
          ],
          "name": "stdout"
        }
      ]
    },
    {
      "cell_type": "markdown",
      "metadata": {
        "id": "9zhlKkncn2dh"
      },
      "source": [
        "Accessing elements"
      ]
    },
    {
      "cell_type": "code",
      "metadata": {
        "colab": {
          "base_uri": "https://localhost:8080/"
        },
        "id": "Jm-_dy-Mnvy_",
        "outputId": "c94596a2-e192-4c7f-aa56-94d61d00a6b4"
      },
      "source": [
        "Dict = {1: 'Geeks', 'name': 'For', 3: 'Geeks'}\n",
        "  \n",
        "# accessing a element using key\n",
        "print(\"Accessing a element using key:\")\n",
        "print(Dict['name'])\n",
        "  \n",
        "# accessing a element using get()\n",
        "\n",
        "print(\"Accessing a element using get:\")\n",
        "print(Dict.get(3))"
      ],
      "execution_count": null,
      "outputs": [
        {
          "output_type": "stream",
          "text": [
            "Accessing a element using key:\n",
            "For\n",
            "Accessing a element using get:\n",
            "Geeks\n"
          ],
          "name": "stdout"
        }
      ]
    },
    {
      "cell_type": "code",
      "metadata": {
        "id": "Aupzy3T-n485"
      },
      "source": [
        ""
      ],
      "execution_count": null,
      "outputs": []
    },
    {
      "cell_type": "markdown",
      "metadata": {
        "id": "UFzcqxIfpqag"
      },
      "source": [
        "# **ARRAY**"
      ]
    },
    {
      "cell_type": "markdown",
      "metadata": {
        "id": "mx21Mi6opv-j"
      },
      "source": [
        "array(data_type, value_list)\n",
        "\n",
        "> creating\n",
        "\n"
      ]
    },
    {
      "cell_type": "code",
      "metadata": {
        "colab": {
          "base_uri": "https://localhost:8080/"
        },
        "id": "77d7LbDept0S",
        "outputId": "9d7be61b-06be-4eda-8168-764252c41a04"
      },
      "source": [
        "import array as arr\n",
        "  \n",
        "# creating an array with integer type 'i'\n",
        "a = arr.array('i', [1, 2, 3])\n",
        "# printing original array\n",
        "print (\"The new created array is : \", end =\" \")\n",
        "for i in range (0, 3):\n",
        "    print (a[i], end =\" \")\n",
        "print()\n",
        "\n",
        "# creating an array with float type 'd'\n",
        "b = arr.array('d', [2.5, 3.2, 3.3])\n",
        "  \n",
        "# printing original array\n",
        "print (\"The new created array is : \", end =\" \")\n",
        "for i in range (0, 3):\n",
        "    print (b[i], end =\" \")\n",
        "\n"
      ],
      "execution_count": null,
      "outputs": [
        {
          "output_type": "stream",
          "text": [
            "The new created array is :  1 2 3 \n",
            "The new created array is :  2.5 3.2 3.3 "
          ],
          "name": "stdout"
        }
      ]
    },
    {
      "cell_type": "markdown",
      "metadata": {
        "id": "Zyp38i6irJJm"
      },
      "source": [
        "updating element\n",
        "\n",
        "> array[position]= value\n",
        "\n"
      ]
    },
    {
      "cell_type": "code",
      "metadata": {
        "colab": {
          "base_uri": "https://localhost:8080/"
        },
        "id": "mBeN0XaUp8UC",
        "outputId": "80dc498f-880f-4613-92ef-97fb592d81e5"
      },
      "source": [
        "import array\n",
        "  \n",
        "# initializing array with array values\n",
        "# initializes array with signed integers\n",
        "arr = array.array('i', [1, 2, 3, 1, 2, 5]) \n",
        "  \n",
        "# printing original array\n",
        "print (\"Array before updation : \", end =\"\")\n",
        "for i in range (0, 6):\n",
        "    print (arr[i], end =\" \")\n",
        "  \n",
        "print (\"\\r\")\n",
        "  \n",
        "# updating a element in a array\n",
        "arr[2] = 6\n",
        "print(\"Array after updation : \", end =\"\")\n",
        "for i in range (0, 6):\n",
        "    print (arr[i], end =\" \")\n",
        "print()"
      ],
      "execution_count": null,
      "outputs": [
        {
          "output_type": "stream",
          "text": [
            "Array before updation : 1 2 3 1 2 5 \r\n",
            "Array after updation : 1 2 6 1 2 5 \n"
          ],
          "name": "stdout"
        }
      ]
    },
    {
      "cell_type": "code",
      "metadata": {
        "id": "v3uOCvYLrcEJ"
      },
      "source": [
        ""
      ],
      "execution_count": null,
      "outputs": []
    }
  ]
}